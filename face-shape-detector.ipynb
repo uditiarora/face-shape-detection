{
 "cells": [
  {
   "cell_type": "code",
   "execution_count": 19,
   "metadata": {},
   "outputs": [],
   "source": [
    "import numpy as np\n",
    "import cv2\n",
    "import dlib\n",
    "from sklearn.cluster import KMeans\n",
    "import math\n",
    "from math import degrees"
   ]
  },
  {
   "cell_type": "code",
   "execution_count": 20,
   "metadata": {},
   "outputs": [],
   "source": [
    "imagepath = \"sample.jpg\"\n",
    "# link = https://github.com/opencv/opencv/tree/master/data/haarcascades\n",
    "face_cascade_path = \"data/haarcascade_frontalface_default.xml\"\n",
    "#.dat file for detecting facial landmarks\n",
    "#download file path = http://dlib.net/files/shape_predictor_68_face_landmarks.dat.bz2\n",
    "predictor_path = \"data/shape_predictor_68_face_landmarks.dat\""
   ]
  },
  {
   "cell_type": "code",
   "execution_count": 21,
   "metadata": {},
   "outputs": [],
   "source": [
    "faceCascade = cv2.CascadeClassifier(face_cascade_path)\n",
    "predictor = dlib.shape_predictor(predictor_path)\n",
    "image = cv2.imread(imagepath)\n",
    "image = cv2.resize(image, (500, 500))\n",
    "original = image.copy()\n",
    "gray = cv2.cvtColor(image, cv2.COLOR_BGR2GRAY)\n",
    "gauss = cv2.GaussianBlur(gray,(3,3), 0)"
   ]
  },
  {
   "cell_type": "code",
   "execution_count": 22,
   "metadata": {},
   "outputs": [
    {
     "name": "stdout",
     "output_type": "stream",
     "text": [
      "found 1 faces!\n"
     ]
    }
   ],
   "source": [
    "faces = faceCascade.detectMultiScale(\n",
    "    gauss,\n",
    "    scaleFactor=1.05,\n",
    "    minNeighbors=5,\n",
    "    minSize=(100,100),\n",
    "    flags=cv2.CASCADE_SCALE_IMAGE\n",
    "    )\n",
    "print(\"found {0} faces!\".format(len(faces)) )"
   ]
  },
  {
   "cell_type": "code",
   "execution_count": 23,
   "metadata": {},
   "outputs": [],
   "source": [
    "for (x,y,w,h) in faces:\n",
    "    cv2.rectangle(image, (x,y), (x+w,y+h), (0,255,0), 2)\n",
    "    dlib_rect = dlib.rectangle(int(x), int(y), int(x+w), int(y+h))\n",
    "    detected_landmarks = predictor(image, dlib_rect).parts()\n",
    "    landmarks = np.matrix([[p.x,p.y] for p in detected_landmarks])\n",
    "results = original.copy()"
   ]
  },
  {
   "cell_type": "code",
   "execution_count": 24,
   "metadata": {},
   "outputs": [],
   "source": [
    "for (x,y,w,h) in faces:\n",
    "    cv2.rectangle(results, (x,y), (x+w,y+h), (0,255,0), 2)\n",
    "    temp = original.copy()\n",
    "    forehead = temp[y:y+int(0.25*h), x:x+w]\n",
    "    rows,cols, bands = forehead.shape\n",
    "    X = forehead.reshape(rows*cols,bands)\n",
    "   \n",
    "    kmeans = KMeans(n_clusters=2,init='k-means++',max_iter=300,n_init=10, random_state=0)\n",
    "    y_kmeans = kmeans.fit_predict(X)\n",
    "    for i in range(0,rows):\n",
    "        for j in range(0,cols):\n",
    "            if y_kmeans[i*cols+j]==True:\n",
    "                forehead[i][j]=[255,255,255]\n",
    "            if y_kmeans[i*cols+j]==False:\n",
    "                forehead[i][j]=[0,0,0]\n",
    "    \n",
    "    forehead_mid = [int(cols/2), int(rows/2) ] \n",
    "    lef=0 \n",
    "    pixel_value = forehead[forehead_mid[1],forehead_mid[0] ]\n",
    "    for i in range(0,cols):\n",
    "        if forehead[forehead_mid[1],forehead_mid[0]-i].all()!=pixel_value.all():\n",
    "            lef=forehead_mid[0]-i\n",
    "            break;\n",
    "    left = [lef,forehead_mid[1]]\n",
    "    rig=0\n",
    "    for i in range(0,cols):\n",
    "        if forehead[forehead_mid[1],forehead_mid[0]+i].all()!=pixel_value.all():\n",
    "            rig = forehead_mid[0]+i\n",
    "            break;\n",
    "    right = [rig,forehead_mid[1]]"
   ]
  },
  {
   "cell_type": "code",
   "execution_count": 25,
   "metadata": {
    "scrolled": true
   },
   "outputs": [
    {
     "data": {
      "text/plain": [
       "array([[[208, 210, 210],\n",
       "        [208, 210, 210],\n",
       "        [208, 210, 210],\n",
       "        ...,\n",
       "        [206, 208, 208],\n",
       "        [205, 207, 207],\n",
       "        [205, 207, 207]],\n",
       "\n",
       "       [[208, 210, 210],\n",
       "        [208, 210, 210],\n",
       "        [208, 210, 210],\n",
       "        ...,\n",
       "        [206, 208, 208],\n",
       "        [205, 207, 207],\n",
       "        [205, 207, 207]],\n",
       "\n",
       "       [[208, 210, 210],\n",
       "        [208, 210, 210],\n",
       "        [208, 210, 210],\n",
       "        ...,\n",
       "        [206, 208, 208],\n",
       "        [205, 207, 207],\n",
       "        [205, 207, 207]],\n",
       "\n",
       "       ...,\n",
       "\n",
       "       [[206, 208, 208],\n",
       "        [206, 208, 208],\n",
       "        [206, 208, 208],\n",
       "        ...,\n",
       "        [192, 207, 223],\n",
       "        [195, 211, 224],\n",
       "        [197, 213, 226]],\n",
       "\n",
       "       [[203, 205, 205],\n",
       "        [204, 206, 206],\n",
       "        [204, 206, 206],\n",
       "        ...,\n",
       "        [193, 208, 224],\n",
       "        [197, 213, 226],\n",
       "        [196, 212, 225]],\n",
       "\n",
       "       [[201, 203, 203],\n",
       "        [202, 204, 204],\n",
       "        [202, 204, 204],\n",
       "        ...,\n",
       "        [196, 211, 227],\n",
       "        [199, 215, 228],\n",
       "        [198, 214, 227]]], dtype=uint8)"
      ]
     },
     "execution_count": 25,
     "metadata": {},
     "output_type": "execute_result"
    }
   ],
   "source": [
    "line1 = np.subtract(right+y,left+x)[0]\n",
    "cv2.line(results, tuple(x+left), tuple(y+right), color=(0,255,0), thickness = 2)\n",
    "cv2.putText(results,' Line 1',tuple(x+left),fontFace=cv2.FONT_HERSHEY_SIMPLEX,fontScale=1,color=(0,255,0), thickness=2)\n",
    "cv2.circle(results, tuple(x+left), 5, color=(255,0,0), thickness=-1)    \n",
    "cv2.circle(results, tuple(y+right), 5, color=(255,0,0), thickness=-1)        "
   ]
  },
  {
   "cell_type": "code",
   "execution_count": 26,
   "metadata": {
    "scrolled": true
   },
   "outputs": [
    {
     "data": {
      "text/plain": [
       "array([[[208, 210, 210],\n",
       "        [208, 210, 210],\n",
       "        [208, 210, 210],\n",
       "        ...,\n",
       "        [206, 208, 208],\n",
       "        [205, 207, 207],\n",
       "        [205, 207, 207]],\n",
       "\n",
       "       [[208, 210, 210],\n",
       "        [208, 210, 210],\n",
       "        [208, 210, 210],\n",
       "        ...,\n",
       "        [206, 208, 208],\n",
       "        [205, 207, 207],\n",
       "        [205, 207, 207]],\n",
       "\n",
       "       [[208, 210, 210],\n",
       "        [208, 210, 210],\n",
       "        [208, 210, 210],\n",
       "        ...,\n",
       "        [206, 208, 208],\n",
       "        [205, 207, 207],\n",
       "        [205, 207, 207]],\n",
       "\n",
       "       ...,\n",
       "\n",
       "       [[206, 208, 208],\n",
       "        [206, 208, 208],\n",
       "        [206, 208, 208],\n",
       "        ...,\n",
       "        [192, 207, 223],\n",
       "        [195, 211, 224],\n",
       "        [197, 213, 226]],\n",
       "\n",
       "       [[203, 205, 205],\n",
       "        [204, 206, 206],\n",
       "        [204, 206, 206],\n",
       "        ...,\n",
       "        [193, 208, 224],\n",
       "        [197, 213, 226],\n",
       "        [196, 212, 225]],\n",
       "\n",
       "       [[201, 203, 203],\n",
       "        [202, 204, 204],\n",
       "        [202, 204, 204],\n",
       "        ...,\n",
       "        [196, 211, 227],\n",
       "        [199, 215, 228],\n",
       "        [198, 214, 227]]], dtype=uint8)"
      ]
     },
     "execution_count": 26,
     "metadata": {},
     "output_type": "execute_result"
    }
   ],
   "source": [
    "linepointleft = (landmarks[1,0],landmarks[1,1])\n",
    "linepointright = (landmarks[15,0],landmarks[15,1])\n",
    "line2 = np.subtract(linepointright,linepointleft)[0]\n",
    "cv2.line(results, linepointleft,linepointright,color=(0,255,0), thickness = 2)\n",
    "cv2.putText(results,' Line 2',linepointleft,fontFace=cv2.FONT_HERSHEY_SIMPLEX,fontScale=1,color=(0,255,0), thickness=2)\n",
    "cv2.circle(results, linepointleft, 5, color=(255,0,0), thickness=-1)    \n",
    "cv2.circle(results, linepointright, 5, color=(255,0,0), thickness=-1)"
   ]
  },
  {
   "cell_type": "code",
   "execution_count": 27,
   "metadata": {
    "scrolled": true
   },
   "outputs": [
    {
     "data": {
      "text/plain": [
       "array([[[208, 210, 210],\n",
       "        [208, 210, 210],\n",
       "        [208, 210, 210],\n",
       "        ...,\n",
       "        [206, 208, 208],\n",
       "        [205, 207, 207],\n",
       "        [205, 207, 207]],\n",
       "\n",
       "       [[208, 210, 210],\n",
       "        [208, 210, 210],\n",
       "        [208, 210, 210],\n",
       "        ...,\n",
       "        [206, 208, 208],\n",
       "        [205, 207, 207],\n",
       "        [205, 207, 207]],\n",
       "\n",
       "       [[208, 210, 210],\n",
       "        [208, 210, 210],\n",
       "        [208, 210, 210],\n",
       "        ...,\n",
       "        [206, 208, 208],\n",
       "        [205, 207, 207],\n",
       "        [205, 207, 207]],\n",
       "\n",
       "       ...,\n",
       "\n",
       "       [[206, 208, 208],\n",
       "        [206, 208, 208],\n",
       "        [206, 208, 208],\n",
       "        ...,\n",
       "        [192, 207, 223],\n",
       "        [195, 211, 224],\n",
       "        [197, 213, 226]],\n",
       "\n",
       "       [[203, 205, 205],\n",
       "        [204, 206, 206],\n",
       "        [204, 206, 206],\n",
       "        ...,\n",
       "        [193, 208, 224],\n",
       "        [197, 213, 226],\n",
       "        [196, 212, 225]],\n",
       "\n",
       "       [[201, 203, 203],\n",
       "        [202, 204, 204],\n",
       "        [202, 204, 204],\n",
       "        ...,\n",
       "        [196, 211, 227],\n",
       "        [199, 215, 228],\n",
       "        [198, 214, 227]]], dtype=uint8)"
      ]
     },
     "execution_count": 27,
     "metadata": {},
     "output_type": "execute_result"
    }
   ],
   "source": [
    "linepointleft = (landmarks[3,0],landmarks[3,1])\n",
    "linepointright = (landmarks[13,0],landmarks[13,1])\n",
    "line3 = np.subtract(linepointright,linepointleft)[0]\n",
    "cv2.line(results, linepointleft,linepointright,color=(0,255,0), thickness = 2)\n",
    "cv2.putText(results,' Line 3',linepointleft,fontFace=cv2.FONT_HERSHEY_SIMPLEX,fontScale=1,color=(0,255,0), thickness=2)\n",
    "cv2.circle(results, linepointleft, 5, color=(255,0,0), thickness=-1)    \n",
    "cv2.circle(results, linepointright, 5, color=(255,0,0), thickness=-1)"
   ]
  },
  {
   "cell_type": "code",
   "execution_count": 28,
   "metadata": {
    "scrolled": true
   },
   "outputs": [
    {
     "data": {
      "text/plain": [
       "array([[[208, 210, 210],\n",
       "        [208, 210, 210],\n",
       "        [208, 210, 210],\n",
       "        ...,\n",
       "        [206, 208, 208],\n",
       "        [205, 207, 207],\n",
       "        [205, 207, 207]],\n",
       "\n",
       "       [[208, 210, 210],\n",
       "        [208, 210, 210],\n",
       "        [208, 210, 210],\n",
       "        ...,\n",
       "        [206, 208, 208],\n",
       "        [205, 207, 207],\n",
       "        [205, 207, 207]],\n",
       "\n",
       "       [[208, 210, 210],\n",
       "        [208, 210, 210],\n",
       "        [208, 210, 210],\n",
       "        ...,\n",
       "        [206, 208, 208],\n",
       "        [205, 207, 207],\n",
       "        [205, 207, 207]],\n",
       "\n",
       "       ...,\n",
       "\n",
       "       [[206, 208, 208],\n",
       "        [206, 208, 208],\n",
       "        [206, 208, 208],\n",
       "        ...,\n",
       "        [192, 207, 223],\n",
       "        [195, 211, 224],\n",
       "        [197, 213, 226]],\n",
       "\n",
       "       [[203, 205, 205],\n",
       "        [204, 206, 206],\n",
       "        [204, 206, 206],\n",
       "        ...,\n",
       "        [193, 208, 224],\n",
       "        [197, 213, 226],\n",
       "        [196, 212, 225]],\n",
       "\n",
       "       [[201, 203, 203],\n",
       "        [202, 204, 204],\n",
       "        [202, 204, 204],\n",
       "        ...,\n",
       "        [196, 211, 227],\n",
       "        [199, 215, 228],\n",
       "        [198, 214, 227]]], dtype=uint8)"
      ]
     },
     "execution_count": 28,
     "metadata": {},
     "output_type": "execute_result"
    }
   ],
   "source": [
    "linepointbottom = (landmarks[8,0],landmarks[8,1])\n",
    "linepointtop = (landmarks[8,0],y)\n",
    "line4 = np.subtract(linepointbottom,linepointtop)[1]\n",
    "cv2.line(results,linepointtop,linepointbottom,color=(0,255,0), thickness = 2)\n",
    "cv2.putText(results,' Line 4',linepointbottom,fontFace=cv2.FONT_HERSHEY_SIMPLEX,fontScale=1,color=(0,255,0), thickness=2)\n",
    "cv2.circle(results, linepointtop, 5, color=(255,0,0), thickness=-1)    \n",
    "cv2.circle(results, linepointbottom, 5, color=(255,0,0), thickness=-1)"
   ]
  },
  {
   "cell_type": "code",
   "execution_count": 29,
   "metadata": {},
   "outputs": [],
   "source": [
    "similarity = np.std([line1,line2,line3])\n",
    "ovalsimilarity = np.std([line2,line4])"
   ]
  },
  {
   "cell_type": "code",
   "execution_count": 30,
   "metadata": {},
   "outputs": [],
   "source": [
    "ax,ay = landmarks[3,0],landmarks[3,1]\n",
    "bx,by = landmarks[4,0],landmarks[4,1]\n",
    "cx,cy = landmarks[5,0],landmarks[5,1]\n",
    "dx,dy = landmarks[6,0],landmarks[6,1]"
   ]
  },
  {
   "cell_type": "code",
   "execution_count": 31,
   "metadata": {},
   "outputs": [],
   "source": [
    "alpha0 = math.atan2(cy-ay,cx-ax)\n",
    "alpha1 = math.atan2(dy-by,dx-bx)\n",
    "alpha = alpha1-alpha0\n",
    "angle = abs(degrees(alpha))\n",
    "angle = 180-angle"
   ]
  },
  {
   "cell_type": "code",
   "execution_count": 32,
   "metadata": {},
   "outputs": [
    {
     "name": "stdout",
     "output_type": "stream",
     "text": [
      "Oblong. Face length is largest and jawlines are not angular\n"
     ]
    }
   ],
   "source": [
    "for i in range(1):\n",
    "    if similarity<10:\n",
    "        if angle<160:\n",
    "            print('Squared shape. Jawlines are more angular')\n",
    "            break\n",
    "        else:\n",
    "            print('Round shape. Jawlines are not that angular')\n",
    "            break\n",
    "    if line3>line1:\n",
    "        if angle<160:\n",
    "            print('Triangle shape.Forehead is more wider') \n",
    "            break\n",
    "    if ovalsimilarity<10:\n",
    "        print('Diamond shape. Line2 & line4 are similar and line2 is slightly larger')\n",
    "        break\n",
    "    if line4 > line2:\n",
    "        if angle<160:\n",
    "            print('Rectangular. Face length is largest and jawline are angular ')\n",
    "            break\n",
    "        else:\n",
    "            print('Oblong. Face length is largest and jawlines are not angular')\n",
    "            break\n"
   ]
  },
  {
   "cell_type": "code",
   "execution_count": 33,
   "metadata": {},
   "outputs": [
    {
     "data": {
      "text/plain": [
       "True"
      ]
     },
     "execution_count": 33,
     "metadata": {},
     "output_type": "execute_result"
    }
   ],
   "source": [
    "output = np.concatenate((original,results), axis=1)\n",
    "cv2.imwrite('output.jpg',output)"
   ]
  }
 ],
 "metadata": {
  "kernelspec": {
   "display_name": "Python 3",
   "language": "python",
   "name": "python3"
  },
  "language_info": {
   "codemirror_mode": {
    "name": "ipython",
    "version": 3
   },
   "file_extension": ".py",
   "mimetype": "text/x-python",
   "name": "python",
   "nbconvert_exporter": "python",
   "pygments_lexer": "ipython3",
   "version": "3.6.4"
  }
 },
 "nbformat": 4,
 "nbformat_minor": 2
}
